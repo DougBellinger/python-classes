{
 "cells": [
  {
   "cell_type": "code",
   "execution_count": null,
   "metadata": {},
   "outputs": [],
   "source": [
    "#!pip install nltk\n",
    "import nltk\n",
    "from nltk.corpus import words\n",
    "nltk.download('words')\n",
    "fives = [w.upper() for w in words.words() if len(w) == 5]"
   ]
  },
  {
   "cell_type": "code",
   "execution_count": null,
   "metadata": {},
   "outputs": [],
   "source": [
    "import panel as pn\n",
    "pn.extension(\"ipywidgets\")\n",
    "from AlphaFilterList import AlphaFilterList\n",
    "afs = AlphaFilterList(all=fives, name=\"Five Letter Words - Starts With\", func=AlphaFilterList.starts_with)\n",
    "afany = AlphaFilterList(all=fives, name=\"Five Letter Words - Any\", func=AlphaFilterList.match_any)\n",
    "afall = AlphaFilterList(all=fives, name=\"Five Letter Words - All\", func=AlphaFilterList.match_all)\n",
    "afnone = AlphaFilterList(all=fives, name=\"Five Letter Words - None\", func=AlphaFilterList.match_none)\n",
    "def allToNone(e):\n",
    "    if len(afall.selector)==0:\n",
    "        afnone.all = afall.getObjects()\n",
    "    else:\n",
    "        afnone.all = afall.selector\n",
    "afall.param.watch(allToNone, ['selector', 'filter'], onlychanged=True)\n",
    "fr = pn.Column(pn.Row(afall.view,afnone.view), pn.Row(afs.view, afany.view))"
   ]
  },
  {
   "cell_type": "code",
   "execution_count": null,
   "metadata": {},
   "outputs": [],
   "source": [
    "fr.show()"
   ]
  }
 ],
 "metadata": {
  "kernelspec": {
   "display_name": ".venv",
   "language": "python",
   "name": "python3"
  },
  "language_info": {
   "codemirror_mode": {
    "name": "ipython",
    "version": 3
   },
   "file_extension": ".py",
   "mimetype": "text/x-python",
   "name": "python",
   "nbconvert_exporter": "python",
   "pygments_lexer": "ipython3",
   "version": "3.11.0"
  },
  "orig_nbformat": 4
 },
 "nbformat": 4,
 "nbformat_minor": 2
}
