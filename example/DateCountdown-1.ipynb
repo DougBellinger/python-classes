{
 "cells": [
  {
   "cell_type": "code",
   "execution_count": null,
   "metadata": {},
   "outputs": [],
   "source": [
    "#-----------------------------------------------------------------------------\n",
    "# Copyright (c) 2023 Doug Bellinger\n",
    "# All rights reserved.\n",
    "#\n",
    "# The full license is in the file LICENSE, distributed with this software.\n",
    "#-----------------------------------------------------------------------------\n",
    "import sys\n",
    "import pprint\n",
    "sys.path.append(\"../../\")\n",
    "pprint.pprint(sys.path)\n",
    "\n",
    "import panel as pn\n",
    "import re\n",
    "from python_classes.DateCountdown import DateCountdown\n",
    "import param\n",
    "import logging\n",
    "\n",
    "\n",
    "d = DateCountdown()\n",
    "m = pn.pane.Markdown(f\"# Days from {d.d0} until {d.d1}\")\n",
    "pn.Column(m , d.view(), d.business_view(), align=\"center\").show()"
   ]
  }
 ],
 "metadata": {
  "kernelspec": {
   "display_name": ".venv",
   "language": "python",
   "name": "python3"
  },
  "language_info": {
   "codemirror_mode": {
    "name": "ipython",
    "version": 3
   },
   "file_extension": ".py",
   "mimetype": "text/x-python",
   "name": "python",
   "nbconvert_exporter": "python",
   "pygments_lexer": "ipython3",
   "version": "3.11.0rc1"
  },
  "orig_nbformat": 4
 },
 "nbformat": 4,
 "nbformat_minor": 2
}
